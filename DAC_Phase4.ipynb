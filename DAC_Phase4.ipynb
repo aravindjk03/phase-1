{
 "cells": [
  {
   "cell_type": "code",
   "execution_count": 28,
   "metadata": {},
   "outputs": [],
   "source": [
    "import pandas as pd\n",
    "import matplotlib.pyplot as plt\n",
    "import numpy as np\n",
    "import sklearn\n",
    "import plotly.express as px"
   ]
  },
  {
   "cell_type": "code",
   "execution_count": 20,
   "metadata": {},
   "outputs": [],
   "source": [
    "df = pd.read_csv(r\"C:\\Users\\nithy\\OneDrive\\Desktop\\IBM project\\dac.csv\")"
   ]
  },
  {
   "cell_type": "code",
   "execution_count": 25,
   "metadata": {},
   "outputs": [
    {
     "name": "stdout",
     "output_type": "stream",
     "text": [
      "Index(['Row', 'Day', 'Day.Of.Week', 'Date', 'Page.Loads', 'Unique.Visits',\n",
      "       'First.Time.Visits', 'Returning.Visits'],\n",
      "      dtype='object')\n",
      "   Row        Day  Day.Of.Week       Date Page.Loads Unique.Visits  \\\n",
      "0    1     Sunday            1  9/14/2014      2,146         1,582   \n",
      "1    2     Monday            2  9/15/2014      3,621         2,528   \n",
      "2    3    Tuesday            3  9/16/2014      3,698         2,630   \n",
      "3    4  Wednesday            4  9/17/2014      3,667         2,614   \n",
      "4    5   Thursday            5  9/18/2014      3,316         2,366   \n",
      "\n",
      "  First.Time.Visits Returning.Visits  \n",
      "0             1,430              152  \n",
      "1             2,297              231  \n",
      "2             2,352              278  \n",
      "3             2,327              287  \n",
      "4             2,130              236  \n",
      "(2167, 8)\n"
     ]
    },
    {
     "data": {
      "text/html": [
       "<div>\n",
       "<style scoped>\n",
       "    .dataframe tbody tr th:only-of-type {\n",
       "        vertical-align: middle;\n",
       "    }\n",
       "\n",
       "    .dataframe tbody tr th {\n",
       "        vertical-align: top;\n",
       "    }\n",
       "\n",
       "    .dataframe thead th {\n",
       "        text-align: right;\n",
       "    }\n",
       "</style>\n",
       "<table border=\"1\" class=\"dataframe\">\n",
       "  <thead>\n",
       "    <tr style=\"text-align: right;\">\n",
       "      <th></th>\n",
       "      <th>Row</th>\n",
       "      <th>Day</th>\n",
       "      <th>Day.Of.Week</th>\n",
       "      <th>Date</th>\n",
       "      <th>Page.Loads</th>\n",
       "      <th>Unique.Visits</th>\n",
       "      <th>First.Time.Visits</th>\n",
       "      <th>Returning.Visits</th>\n",
       "    </tr>\n",
       "  </thead>\n",
       "  <tbody>\n",
       "    <tr>\n",
       "      <th>2162</th>\n",
       "      <td>2163</td>\n",
       "      <td>Saturday</td>\n",
       "      <td>7</td>\n",
       "      <td>8/15/2020</td>\n",
       "      <td>2,221</td>\n",
       "      <td>1,696</td>\n",
       "      <td>1,373</td>\n",
       "      <td>323</td>\n",
       "    </tr>\n",
       "    <tr>\n",
       "      <th>2163</th>\n",
       "      <td>2164</td>\n",
       "      <td>Sunday</td>\n",
       "      <td>1</td>\n",
       "      <td>8/16/2020</td>\n",
       "      <td>2,724</td>\n",
       "      <td>2,037</td>\n",
       "      <td>1,686</td>\n",
       "      <td>351</td>\n",
       "    </tr>\n",
       "    <tr>\n",
       "      <th>2164</th>\n",
       "      <td>2165</td>\n",
       "      <td>Monday</td>\n",
       "      <td>2</td>\n",
       "      <td>8/17/2020</td>\n",
       "      <td>3,456</td>\n",
       "      <td>2,638</td>\n",
       "      <td>2,181</td>\n",
       "      <td>457</td>\n",
       "    </tr>\n",
       "    <tr>\n",
       "      <th>2165</th>\n",
       "      <td>2166</td>\n",
       "      <td>Tuesday</td>\n",
       "      <td>3</td>\n",
       "      <td>8/18/2020</td>\n",
       "      <td>3,581</td>\n",
       "      <td>2,683</td>\n",
       "      <td>2,184</td>\n",
       "      <td>499</td>\n",
       "    </tr>\n",
       "    <tr>\n",
       "      <th>2166</th>\n",
       "      <td>2167</td>\n",
       "      <td>Wednesday</td>\n",
       "      <td>4</td>\n",
       "      <td>8/19/2020</td>\n",
       "      <td>2,064</td>\n",
       "      <td>1,564</td>\n",
       "      <td>1,297</td>\n",
       "      <td>267</td>\n",
       "    </tr>\n",
       "  </tbody>\n",
       "</table>\n",
       "</div>"
      ],
      "text/plain": [
       "       Row        Day  Day.Of.Week       Date Page.Loads Unique.Visits  \\\n",
       "2162  2163   Saturday            7  8/15/2020      2,221         1,696   \n",
       "2163  2164     Sunday            1  8/16/2020      2,724         2,037   \n",
       "2164  2165     Monday            2  8/17/2020      3,456         2,638   \n",
       "2165  2166    Tuesday            3  8/18/2020      3,581         2,683   \n",
       "2166  2167  Wednesday            4  8/19/2020      2,064         1,564   \n",
       "\n",
       "     First.Time.Visits Returning.Visits  \n",
       "2162             1,373              323  \n",
       "2163             1,686              351  \n",
       "2164             2,181              457  \n",
       "2165             2,184              499  \n",
       "2166             1,297              267  "
      ]
     },
     "execution_count": 25,
     "metadata": {},
     "output_type": "execute_result"
    }
   ],
   "source": [
    "print(df.columns)\n",
    "print(df.head())  # Print the first few rows to get an overview of the data\n",
    "print(df.shape)  # Check the dimensions of the dataset\n",
    "df.head()\n",
    "df.tail()\n"
   ]
  },
  {
   "cell_type": "code",
   "execution_count": 32,
   "metadata": {},
   "outputs": [
    {
     "name": "stdout",
     "output_type": "stream",
     "text": [
      "<class 'pandas.core.frame.DataFrame'>\n",
      "RangeIndex: 2167 entries, 0 to 2166\n",
      "Data columns (total 8 columns):\n",
      " #   Column             Non-Null Count  Dtype \n",
      "---  ------             --------------  ----- \n",
      " 0   Row                2167 non-null   int64 \n",
      " 1   Day                2167 non-null   object\n",
      " 2   Day.Of.Week        2167 non-null   int64 \n",
      " 3   Date               2167 non-null   object\n",
      " 4   Page.Loads         2167 non-null   object\n",
      " 5   Unique.Visits      2167 non-null   object\n",
      " 6   First.Time.Visits  2167 non-null   object\n",
      " 7   Returning.Visits   2167 non-null   object\n",
      "dtypes: int64(2), object(6)\n",
      "memory usage: 135.6+ KB\n"
     ]
    }
   ],
   "source": [
    "df.info()\n"
   ]
  },
  {
   "cell_type": "code",
   "execution_count": null,
   "metadata": {},
   "outputs": [],
   "source": [
    "# Convert the date column to a datetime format if needed\n",
    "df['Day'] = pd.to_datetime(df['Day'])\n",
    "\n",
    "# Set the date column as the DataFrame index\n",
    "df.set_index('Day', inplace=True)\n",
    "\n",
    "# Compute basic statistics\n",
    "ts_mean = df['Returning.Visits'].mean()\n",
    "ts_std = df['Returning.Visits'].std()\n",
    "\n",
    "# Plot the time series\n",
    "df['Returning.Visits'].plot()\n",
    "plt.xlabel('Day')\n",
    "plt.ylabel('Returning.Visits')\n",
    "plt.title('Unique.Visits')\n",
    "plt.show()"
   ]
  },
  {
   "cell_type": "code",
   "execution_count": null,
   "metadata": {},
   "outputs": [],
   "source": [
    "from sklearn.cluster import KMeans\n",
    "\n",
    "# Select the relevant features for segmentation\n",
    "features = ['engagement_metric_1', 'engagement_metric_2', 'engagement_metric_3']\n",
    "X = df[features]\n",
    "\n",
    "# Perform K-means clustering\n",
    "kmeans = KMeans(n_clusters=3)\n",
    "kmeans.fit(X)\n",
    "\n",
    "# Add the cluster labels to the DataFrame\n",
    "df['cluster'] = kmeans.labels_"
   ]
  },
  {
   "cell_type": "code",
   "execution_count": null,
   "metadata": {},
   "outputs": [],
   "source": [
    "from sklearn.linear_model import LinearRegression\n",
    "from sklearn.model_selection import train_test_split\n",
    "\n",
    "# Select the features and target variable\n",
    "features = ['feature1', 'feature2', 'feature3']\n",
    "target = 'target_variable'\n",
    "X = df[features]\n",
    "y = df[target]\n",
    "\n",
    "# Split the data into training and testing sets\n",
    "X_train, X_test, y_train, y_test = train_test_split(X, y, test_size=0.2, random_state=42)\n",
    "\n",
    "# Train the linear regression model\n",
    "model = LinearRegression()\n",
    "model.fit(X_train, y_train)\n",
    "\n",
    "# Make predictions\n",
    "y_pred = model.predict(X_test)"
   ]
  }
 ],
 "metadata": {
  "kernelspec": {
   "display_name": "base",
   "language": "python",
   "name": "python3"
  },
  "language_info": {
   "codemirror_mode": {
    "name": "ipython",
    "version": 3
   },
   "file_extension": ".py",
   "mimetype": "text/x-python",
   "name": "python",
   "nbconvert_exporter": "python",
   "pygments_lexer": "ipython3",
   "version": "3.12.0"
  }
 },
 "nbformat": 4,
 "nbformat_minor": 2
}
